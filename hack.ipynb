{
 "cells": [
  {
   "cell_type": "markdown",
   "id": "069d393b",
   "metadata": {},
   "source": [
    "# Data Split"
   ]
  },
  {
   "cell_type": "code",
   "execution_count": null,
   "id": "cd6969e0",
   "metadata": {},
   "outputs": [],
   "source": [
    "from datetime import timedelta\n",
    "import polars as pl\n",
    "import os\n",
    "DATA_DIR = 'data'\n",
    "SAVE_PATH = os.path.join(DATA_DIR, 'val')\n",
    "os.makedirs(os.path.join(DATA_DIR, 'val'), exist_ok=True)\n",
    "EVAL_DAYS_TRESHOLD = 14\n",
    "\n",
    "df_test_users = pl.read_parquet(os.path.join(DATA_DIR, 'test_users.pq'))\n",
    "df_clickstream = pl.read_parquet(os.path.join(DATA_DIR, 'clickstream.pq'))\n",
    "\n",
    "#df_cat_features = pl.read_parquet(os.path.join(DATA_DIR, 'cat_features.pq'))\n",
    "#df_text_features = pl.read_parquet(os.path.join(DATA_DIR, 'clickstream.pq'))\n",
    "df_event = pl.read_parquet(os.path.join(DATA_DIR, 'events.pq'))"
   ]
  },
  {
   "cell_type": "code",
   "execution_count": 6,
   "id": "4f167539",
   "metadata": {},
   "outputs": [],
   "source": [
    "treshhold = df_clickstream['event_date'].max() - timedelta(days=EVAL_DAYS_TRESHOLD)\n",
    "\n",
    "df_train = df_clickstream.filter(df_clickstream['event_date']<= treshhold)\n",
    "df_eval = df_clickstream.filter(df_clickstream['event_date']> treshhold)[['cookie', 'node', 'event']]\n",
    "\n",
    "df_eval = (\n",
    "        df_eval\n",
    "        .join(df_train, on=['cookie', 'node'], how='anti')\n",
    "        .filter(\n",
    "                pl.col('event').is_in(\n",
    "                    df_event.filter(pl.col('is_contact')==1)['event'].unique()\n",
    "                )\n",
    "            )\n",
    "        .filter(\n",
    "        pl.col('cookie').is_in(df_train['cookie'].unique())\n",
    "        ).filter(\n",
    "            pl.col('node').is_in(df_train['node'].unique())\n",
    "        )\n",
    ")\n",
    "df_eval = df_eval.unique(['cookie', 'node'])"
   ]
  },
  {
   "cell_type": "code",
   "execution_count": 13,
   "id": "7e6824da",
   "metadata": {},
   "outputs": [],
   "source": [
    "df_train.write_parquet(os.path.join(SAVE_PATH, 'clickstream.pq'))\n",
    "df_eval.write_parquet(os.path.join(SAVE_PATH, 'gt.pq'))"
   ]
  },
  {
   "cell_type": "markdown",
   "id": "1f0fbcf9",
   "metadata": {},
   "source": [
    "# Retrieval Train"
   ]
  },
  {
   "cell_type": "markdown",
   "id": "c0a3c216",
   "metadata": {},
   "source": [
    "## Autoencoders"
   ]
  },
  {
   "cell_type": "markdown",
   "id": "e55d7c8d",
   "metadata": {},
   "source": [
    "### EASE_DAN"
   ]
  },
  {
   "cell_type": "code",
   "execution_count": 1,
   "id": "e337da86",
   "metadata": {},
   "outputs": [],
   "source": [
    "from autoencoders.model import EASE_DAN\n",
    "from utils import Enc, convert_to_sparse, process_in_batches, recall_at\n",
    "import polars as pl\n",
    "import os\n",
    "import numpy as np\n",
    "\n",
    "DATA_DIR = 'data'\n",
    "VAL_PATH = os.path.join(DATA_DIR, 'val')\n",
    "PREDICTION_PATH = 'predictions'\n",
    "MODEL_NAME = 'EASE_DAN'\n",
    "EVAL_DAYS_TRESHOLD = 14\n",
    "N_ITEMS = 30_000\n",
    "\n",
    "df_clickstream = pl.read_parquet(os.path.join(VAL_PATH, 'clickstream.pq'))\n",
    "df_eval = pl.read_parquet(os.path.join(VAL_PATH, 'gt.pq')).join(df_clickstream, on='cookie', how='semi')\n",
    "df_cat_features = pl.read_parquet(os.path.join(DATA_DIR, 'cat_features.pq')) \n",
    "df_event = pl.read_parquet(os.path.join(DATA_DIR, 'events.pq'))\n",
    "\n",
    "df_train = df_clickstream\n",
    "eval_users = df_eval['cookie'].unique().to_list()"
   ]
  },
  {
   "cell_type": "code",
   "execution_count": 2,
   "id": "9d3d8b2a",
   "metadata": {},
   "outputs": [
    {
     "name": "stdout",
     "output_type": "stream",
     "text": [
      "UNSEEN-RECALL@40 0.17348943701276365\n",
      "UNSEEN-RECALL@100 0.2819826797115451\n"
     ]
    }
   ],
   "source": [
    "enc = Enc(item_key='node', user_key='cookie')\n",
    "enc_eval_users = [enc.user_id_dict.get(i) for i in eval_users]\n",
    "\n",
    "df_train = df_train.join(df_train.unique(subset=['node', 'cookie']).select('node').group_by('node').len().sort('len').tail(N_ITEMS).drop('len'),\n",
    "                    on='node')\n",
    "\n",
    "\n",
    "df_train = df_train.with_columns(\n",
    "        (pl.lit(1)).alias(\"event_weight\")\n",
    "    )\n",
    "df_eval = df_eval.join(df_train, on='cookie', how='semi')\n",
    "df_eval = df_eval.with_columns(pl.col('node').cast(pl.Int64))\n",
    "result = enc.fit(train_df=df_train, event_weight='event_weight')\n",
    "enc_eval_users = [enc.user_id_dict.get(i) for i in eval_users]\n",
    "\n",
    "\n",
    "X = (convert_to_sparse(result, enc) > 0).astype(np.float32)\n",
    "ease = EASE_DAN(num_items=N_ITEMS)\n",
    "ease.fit(X)\n",
    "recommendations_df = process_in_batches(\n",
    "    enc_eval_users=enc_eval_users,\n",
    "    X=X,\n",
    "    G=ease.W,\n",
    "    k=300, # top_k\n",
    "    batch_size=1000,\n",
    "    fill_value=-1000\n",
    ")\n",
    "recs = enc.inverse_transform(recommendations_df) \n",
    "recs = recs.with_columns(\n",
    "    pl.col('score').rank(descending=True).over('cookie').alias(f'rank_rd'),\n",
    "    pl.col('cookie').cast(pl.Int64),\n",
    "    pl.col('node').cast(pl.Int64)\n",
    ")\n",
    "print('UNSEEN-RECALL@40', recall_at(df_eval, recs, k=40))\n",
    "print('UNSEEN-RECALL@100', recall_at(df_eval, recs, k=100))"
   ]
  },
  {
   "cell_type": "code",
   "execution_count": 3,
   "id": "a0214d49",
   "metadata": {},
   "outputs": [
    {
     "data": {
      "text/plain": [
       "10"
      ]
     },
     "execution_count": 3,
     "metadata": {},
     "output_type": "execute_result"
    }
   ],
   "source": [
    "ease.reg_p"
   ]
  },
  {
   "cell_type": "code",
   "execution_count": 5,
   "id": "92405b1d",
   "metadata": {},
   "outputs": [],
   "source": [
    "os.makedirs(os.path.join(PREDICTION_PATH, MODEL_NAME), exist_ok=True)"
   ]
  },
  {
   "cell_type": "code",
   "execution_count": 6,
   "id": "5cbe8179",
   "metadata": {},
   "outputs": [],
   "source": [
    "recs.write_parquet(os.path.join(PREDICTION_PATH, MODEL_NAME, 'EASE_DAN_val.pq'))"
   ]
  },
  {
   "cell_type": "markdown",
   "id": "ea68ff02",
   "metadata": {},
   "source": [
    "### RDLAE"
   ]
  },
  {
   "cell_type": "code",
   "execution_count": null,
   "id": "1edd568c",
   "metadata": {},
   "outputs": [],
   "source": [
    "from autoencoders.model import RDLAE\n",
    "from utils import Enc, convert_to_sparse, process_in_batches, recall_at\n",
    "import polars as pl\n",
    "import os\n",
    "import numpy as np\n",
    "\n",
    "DATA_DIR = 'data'\n",
    "VAL_PATH = os.path.join(DATA_DIR, 'val')\n",
    "PREDICTION_PATH = 'predictions'\n",
    "MODEL_NAME = 'RDLAE'\n",
    "EVAL_DAYS_TRESHOLD = 14\n",
    "N_ITEMS = 30_000"
   ]
  },
  {
   "cell_type": "code",
   "execution_count": null,
   "id": "0f10f82d",
   "metadata": {},
   "outputs": [],
   "source": []
  }
 ],
 "metadata": {
  "kernelspec": {
   "display_name": "my_env_py3.9",
   "language": "python",
   "name": "python3"
  },
  "language_info": {
   "codemirror_mode": {
    "name": "ipython",
    "version": 3
   },
   "file_extension": ".py",
   "mimetype": "text/x-python",
   "name": "python",
   "nbconvert_exporter": "python",
   "pygments_lexer": "ipython3",
   "version": "3.9.0"
  }
 },
 "nbformat": 4,
 "nbformat_minor": 5
}
